{
 "cells": [
  {
   "cell_type": "markdown",
   "metadata": {},
   "source": [
    "## 1st user story\n",
    "- short bio\n",
    "- education history \n",
    "- job experience \n",
    "- any goals\n",
    "- two truths and a lie\n",
    "    - lie: Perla is the tallest in the class\n",
    "    - truth: I've been in 4 sports\n",
    "    - truth: I love food\n",
    "\n",
    "- 5 yes or no questions\n",
    "    - Do you think drink coffee?\n",
    "    - Do you have like spicy food?\n",
    "    - Do you have a crush on a celebrity or ficitonal/animated character?\n",
    "    - Do you have a dad/father figure?\n",
    "    - Are you shorter than Perla Mendoza?\n",
    "\n",
    "\n",
    "## 2nd user story \n",
    "- ask users name through a prompt \n",
    "- use the users name in a greating \n",
    "- display the name back to them in our final \n",
    "\n",
    "## syntan\n",
    "- must have a stric line (at the top)\n",
    "- the css and the js to be external "
   ]
  }
 ],
 "metadata": {
  "language_info": {
   "name": "python"
  }
 },
 "nbformat": 4,
 "nbformat_minor": 2
}
